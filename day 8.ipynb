{
 "cells": [
  {
   "cell_type": "code",
   "execution_count": 10,
   "id": "d1bfe714",
   "metadata": {},
   "outputs": [
    {
     "name": "stdout",
     "output_type": "stream",
     "text": [
      "razeen:software engineer\n"
     ]
    },
    {
     "data": {
      "text/plain": [
       "'fady'"
      ]
     },
     "execution_count": 10,
     "metadata": {},
     "output_type": "execute_result"
    }
   ],
   "source": [
    "class person():\n",
    "    def __init__(self,name,occupation):\n",
    "        self.name=name\n",
    "        self.__occupation=occupation\n",
    "    def display(self):\n",
    "        print(f\"{self.name}:{self.__occupation}\")\n",
    "    \n",
    "    def setter(self,new_occupation):\n",
    "        self.__occupation=new_occupation\n",
    "\n",
    "    def getter(self):\n",
    "        return self.__occupation\n",
    "    \n",
    "det=person('razeen', 'software engineer')\n",
    "\n",
    "det.display()\n",
    "\n",
    "det.setter('fady')\n",
    "det.getter()\n",
    "\n",
    "    \n"
   ]
  }
 ],
 "metadata": {
  "kernelspec": {
   "display_name": "Python 3",
   "language": "python",
   "name": "python3"
  },
  "language_info": {
   "codemirror_mode": {
    "name": "ipython",
    "version": 3
   },
   "file_extension": ".py",
   "mimetype": "text/x-python",
   "name": "python",
   "nbconvert_exporter": "python",
   "pygments_lexer": "ipython3",
   "version": "3.13.5"
  }
 },
 "nbformat": 4,
 "nbformat_minor": 5
}
