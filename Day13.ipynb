{
 "cells": [
  {
   "cell_type": "code",
   "execution_count": null,
   "id": "60148d2d",
   "metadata": {},
   "outputs": [],
   "source": [
    "#DAY-13\n",
    "\n",
    "#Mathmatical Foundations in A.I \n",
    "#1)Linear Algebra\n",
    "#2)Probability \n",
    "#3)Statistics\n",
    "#4)Hypothesis"
   ]
  },
  {
   "cell_type": "code",
   "execution_count": 7,
   "id": "944d0e73",
   "metadata": {},
   "outputs": [
    {
     "name": "stdout",
     "output_type": "stream",
     "text": [
      "[0.         0.11111111 0.22222222 0.33333333 0.44444444 0.55555556\n",
      " 0.66666667 0.77777778 0.88888889 1.        ]\n"
     ]
    }
   ],
   "source": [
    "import numpy as np\n",
    "n=np.linspace(0,1,10)\n",
    "print(n)"
   ]
  },
  {
   "cell_type": "code",
   "execution_count": 10,
   "id": "9ac26c6e",
   "metadata": {},
   "outputs": [
    {
     "name": "stdout",
     "output_type": "stream",
     "text": [
      "[32]\n",
      "[[1]\n",
      " [2]\n",
      " [3]]\n"
     ]
    }
   ],
   "source": [
    "v1=np.array([[1,2,3]])\n",
    "v2=np.array([4,5,6])\n",
    "print(np.dot(v1,v2))\n",
    "print(v1.T)"
   ]
  },
  {
   "cell_type": "code",
   "execution_count": 17,
   "id": "8f4bd069",
   "metadata": {},
   "outputs": [
    {
     "name": "stdout",
     "output_type": "stream",
     "text": [
      "[[ 6  1  1]\n",
      " [ 4 -2  5]\n",
      " [ 2  8  7]]\n",
      "\n",
      "[[ 0.17647059 -0.00326797 -0.02287582]\n",
      " [ 0.05882353 -0.13071895  0.08496732]\n",
      " [-0.11764706  0.1503268   0.05228758]]\n"
     ]
    }
   ],
   "source": [
    "#Inverse of a matrix\n",
    "#[6 1 1],\n",
    "#[4 -2 5],\n",
    "#[2 8 7] , 3*3 matrix\n",
    "\n",
    "import numpy as np\n",
    "n1=np.matrix([[6,1,1],[4,-2,5],[2,8,7]])\n",
    "print(n1)\n",
    "print()\n",
    "print(np.linalg.inv(n1))\n",
    "\n",
    "\n"
   ]
  },
  {
   "cell_type": "code",
   "execution_count": null,
   "id": "6cffd057",
   "metadata": {},
   "outputs": [
    {
     "name": "stdout",
     "output_type": "stream",
     "text": [
      "-306.0\n",
      "-306.0\n"
     ]
    }
   ],
   "source": [
    "#determinant of a matrix\n",
    "import numpy as np\n",
    "n2=np.matrix([[6,1,1],[4,-2,5],[2,8,7]])\n",
    "print(np.linalg.det(n2))   \n",
    "from numpy.linalg import det\n",
    "print(det(n2))\n",
    "\n",
    " "
   ]
  },
  {
   "cell_type": "code",
   "execution_count": 26,
   "id": "daab7f09",
   "metadata": {},
   "outputs": [
    {
     "name": "stdout",
     "output_type": "stream",
     "text": [
      "[5. 2.]\n",
      "[[ 0.89442719 -0.70710678]\n",
      " [ 0.4472136   0.70710678]]\n"
     ]
    }
   ],
   "source": [
    "#Eigenvalues and Eigenvectors\n",
    "\n",
    "\n",
    "from numpy.linalg import eig\n",
    "matrix=np.matrix([[4,2],[1,3]])\n",
    "vals,vecs=eig(matrix)\n",
    "print(vals)\n",
    "print(vecs)\n"
   ]
  },
  {
   "cell_type": "code",
   "execution_count": 28,
   "id": "9547a461",
   "metadata": {},
   "outputs": [
    {
     "name": "stdout",
     "output_type": "stream",
     "text": [
      "[[0.68508543 0.3931311  0.57022953 0.48468481 0.3618859  0.12631478\n",
      "  0.60355958 0.96363933 0.51789059 0.86152024 0.13142613 0.58996429\n",
      "  0.06432143 0.47517168 0.82509915 0.25474387 0.48300893 0.14787511\n",
      "  0.17830609 0.18412254 0.47609253 0.67457416 0.4812223  0.35986342\n",
      "  0.90373077 0.76471968 0.09191609 0.68428132 0.30939512 0.11276479]\n",
      " [0.85428592 0.80074812 0.61613724 0.7748976  0.41163044 0.63006218\n",
      "  0.41350664 0.65639173 0.17203453 0.62573462 0.03219719 0.3863555\n",
      "  0.8351327  0.85165291 0.89786337 0.40851729 0.51107226 0.96924117\n",
      "  0.32246022 0.01487042 0.56682443 0.59135015 0.91689194 0.62635122\n",
      "  0.14478014 0.49653488 0.91888766 0.57393062 0.10492334 0.32700183]]\n"
     ]
    }
   ],
   "source": [
    "A=np.random.rand(2,30)\n",
    "print(A)"
   ]
  },
  {
   "cell_type": "code",
   "execution_count": 34,
   "id": "7363d64d",
   "metadata": {},
   "outputs": [
    {
     "name": "stdout",
     "output_type": "stream",
     "text": [
      "1\n"
     ]
    }
   ],
   "source": [
    "#Rank- How rows or cols are independent,\n",
    "#if it is independent to any other coloumns,\n",
    "#we don't consider the independent one\n",
    "\n",
    "v1=np.array([[1,2],[2,4]])\n",
    "print(np.linalg.matrix_rank(v1))\n"
   ]
  },
  {
   "cell_type": "code",
   "execution_count": null,
   "id": "25490312",
   "metadata": {},
   "outputs": [],
   "source": []
  },
  {
   "cell_type": "code",
   "execution_count": null,
   "id": "efa09264",
   "metadata": {},
   "outputs": [
    {
     "data": {
      "image/png": "[encoded data removed]",
      "text/plain": [
       "<Figure size 640x480 with 1 Axes>"
      ]
     },
     "metadata": {},
     "output_type": "display_data"
    }
   ],
   "source": [
    "#Packages-Matplotlib,plotly,Seaborn : These are the packages used in visualization of data\n",
    "#Matplotlib is a 2D plotting library for Python and its numerical mathematics extension NumPy\n",
    "\n",
    "\n",
    "import matplotlib.pyplot as plt\n",
    "import seaborn as sns\n",
    "import plotly\n",
    "a=plt.quiver(1,0,0,2,color=\"red\")\n",
    "b=plt.quiver(1,0,2,3,color=\"blue\")\n",
    "\n",
    "plt.xlim(-5,1)\n",
    "plt.ylim(-5,1)\n",
    "plt.show()\n"
   ]
  }
 ],
 "metadata": {
  "kernelspec": {
   "display_name": "Python 3",
   "language": "python",
   "name": "python3"
  },
  "language_info": {
   "codemirror_mode": {
    "name": "ipython",
    "version": 3
   },
   "file_extension": ".py",
   "mimetype": "text/x-python",
   "name": "python",
   "nbconvert_exporter": "python",
   "pygments_lexer": "ipython3",
   "version": "3.13.5"
  }
 },
 "nbformat": 4,
 "nbformat_minor": 5
}
