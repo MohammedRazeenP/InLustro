{
 "cells": [
  {
   "cell_type": "code",
   "execution_count": 1,
   "id": "3ba84890",
   "metadata": {},
   "outputs": [],
   "source": [
    "file=open(\"demo1.txt\",\"r\")\n",
    "#Absolute path(copy path)-entire path\n",
    "#relative path(copy relative path)-particular file name only"
   ]
  },
  {
   "cell_type": "code",
   "execution_count": 2,
   "id": "7df91dc4",
   "metadata": {},
   "outputs": [],
   "source": [
    "file=open(r\"C:\\Users\\mohammed razeen\\Documents\\InLustro\\demo1.txt\")\n",
    "#Absolute path(copy path)-entire path\n",
    "#relative path(copy relative path)-particular file name only"
   ]
  },
  {
   "cell_type": "code",
   "execution_count": 3,
   "id": "69e9caba",
   "metadata": {},
   "outputs": [],
   "source": [
    "#files are named locations on the disk to store relevant informations \n",
    "#Operations-Open(),read(),write(),append()\n",
    "#1.Open the file location\n",
    "#2.read/write operation\n",
    "#3.close the file\n",
    "\n",
    "#the file can be text file,binary file,csv file"
   ]
  },
  {
   "cell_type": "code",
   "execution_count": 4,
   "id": "a622940c",
   "metadata": {},
   "outputs": [],
   "source": [
    "#working of Open()function\n",
    "#syntax-file=open(filepath,mode)\n",
    "#list of modes\n",
    "\n",
    "#1.r-read the file \n",
    "#2.w-write the content in the file\n",
    "#3.a-append the content \n",
    "#4.r+-To write and read the content\n",
    "#5.w+-TO write and read the content.It will override the existing data.\n",
    "#6.a+-To append and read but .It wont override."
   ]
  },
  {
   "cell_type": "code",
   "execution_count": 5,
   "id": "b810e3b6",
   "metadata": {},
   "outputs": [
    {
     "name": "stdout",
     "output_type": "stream",
     "text": [
      "<_io.TextIOWrapper name='C:\\\\Users\\\\mohammed razeen\\\\Documents\\\\InLustro\\\\demo1.txt' mode='r' encoding='cp1252'>\n"
     ]
    }
   ],
   "source": [
    "file = open(r\"C:\\Users\\mohammed razeen\\Documents\\InLustro\\demo1.txt\",\"r\")\n",
    "print(file)\n",
    "file.name\n",
    "file.mode\n",
    "#close the file\n",
    "file.close()"
   ]
  },
  {
   "cell_type": "code",
   "execution_count": 6,
   "id": "456cb532",
   "metadata": {},
   "outputs": [],
   "source": [
    "#Reading from a file\n",
    "#1.read, 2.readline, 3.readlines\n",
    "#1.read-it reads the entire file\n",
    "#2.readline-reads a one line\n",
    "#3.readlines-it will read line by line\n"
   ]
  },
  {
   "cell_type": "code",
   "execution_count": 7,
   "id": "fcdaece0",
   "metadata": {},
   "outputs": [
    {
     "name": "stdout",
     "output_type": "stream",
     "text": [
      "you guys are very smart\n"
     ]
    }
   ],
   "source": [
    "#read()\n",
    "file=open(r\"C:\\Users\\mohammed razeen\\Documents\\InLustro\\demo1.txt\",\"r\")\n",
    "data=file.read()\n",
    "print(data)"
   ]
  },
  {
   "cell_type": "code",
   "execution_count": 8,
   "id": "f98f6db3",
   "metadata": {},
   "outputs": [
    {
     "name": "stdout",
     "output_type": "stream",
     "text": [
      "you guys are very smart\n"
     ]
    }
   ],
   "source": [
    "#read()\n",
    "file=open(r\"C:\\Users\\mohammed razeen\\Documents\\InLustro\\demo1.txt\",\"r\")\n",
    "data=file.readline()\n",
    "print(data)"
   ]
  },
  {
   "cell_type": "code",
   "execution_count": 9,
   "id": "683a9ad6",
   "metadata": {},
   "outputs": [
    {
     "name": "stdout",
     "output_type": "stream",
     "text": [
      "['you guys are very smart']\n"
     ]
    }
   ],
   "source": [
    "#read()\n",
    "file=open(r\"C:\\Users\\mohammed razeen\\Documents\\InLustro\\demo1.txt\",\"r\")\n",
    "data=file.readlines()\n",
    "print(data)"
   ]
  },
  {
   "cell_type": "code",
   "execution_count": 10,
   "id": "fee458b7",
   "metadata": {},
   "outputs": [
    {
     "name": "stdout",
     "output_type": "stream",
     "text": [
      "<_io.TextIOWrapper name='C:\\\\Users\\\\mohammed razeen\\\\Documents\\\\InLustro\\\\demo1.txt' mode='w' encoding='cp1252'>\n",
      "This is India\n",
      "\n"
     ]
    }
   ],
   "source": [
    "#\n",
    "file=open(r\"C:\\Users\\mohammed razeen\\Documents\\InLustro\\demo1.txt\",\"w\")\n",
    "content=\"This is India\\n\"\n",
    "file.write(content)\n",
    "print(file)\n",
    "file=open(r\"C:\\Users\\mohammed razeen\\Documents\\InLustro\\demo1.txt\",\"r\")\n",
    "print(file.read())"
   ]
  },
  {
   "cell_type": "code",
   "execution_count": 11,
   "id": "a6266630",
   "metadata": {},
   "outputs": [
    {
     "name": "stdout",
     "output_type": "stream",
     "text": [
      "This is India\n",
      "\n",
      "Good Afternoon\n",
      "Thank You\n",
      "\n"
     ]
    }
   ],
   "source": [
    "#append\n",
    "file=open(r\"C:\\Users\\mohammed razeen\\Documents\\InLustro\\demo1.txt\",\"a\")\n",
    "file.write(\"\\n\")\n",
    "file.write(\"Good Afternoon\\n\")\n",
    "file.write(\"Thank You\\n\")\n",
    "file=open(r\"C:\\Users\\mohammed razeen\\Documents\\InLustro\\demo1.txt\",\"r\")\n",
    "print(file.read())"
   ]
  },
  {
   "cell_type": "code",
   "execution_count": 12,
   "id": "e894b68b",
   "metadata": {},
   "outputs": [
    {
     "name": "stdout",
     "output_type": "stream",
     "text": [
      "This is India\n",
      "\n",
      "Good Afternoon\n",
      "Thank You\n",
      "\n",
      "This is India\n",
      "\n",
      "Good Afternoon\n",
      "Thank You\n",
      "Python is Great\n"
     ]
    }
   ],
   "source": [
    "#r+\n",
    "file=open(r\"C:\\Users\\mohammed razeen\\Documents\\InLustro\\demo1.txt\",\"r+\")\n",
    "content=file.read()\n",
    "print(content)\n",
    "file.write(\"Python is Great\")\n",
    "file=open(r\"C:\\Users\\mohammed razeen\\Documents\\InLustro\\demo1.txt\",\"r\")\n",
    "content=file.read()\n",
    "print(content)"
   ]
  },
  {
   "cell_type": "code",
   "execution_count": 13,
   "id": "280f5d16",
   "metadata": {},
   "outputs": [
    {
     "name": "stdout",
     "output_type": "stream",
     "text": [
      "\n"
     ]
    }
   ],
   "source": [
    "file=open(r\"C:\\Users\\mohammed razeen\\Documents\\InLustro\\demo1.txt\",\"w+\")\n",
    "file.write(\"you guys are very smart\")\n",
    "print(file.read())#it overrides the existing content"
   ]
  },
  {
   "cell_type": "code",
   "execution_count": 14,
   "id": "62338ea0",
   "metadata": {},
   "outputs": [
    {
     "name": "stdout",
     "output_type": "stream",
     "text": [
      "\n"
     ]
    }
   ],
   "source": [
    "#a+\n",
    "file=open(r\"C:\\Users\\mohammed razeen\\Documents\\InLustro\\demo1.txt\",\"a+\")\n",
    "file.write(\" LEO MESSI THE GOAT\")\n",
    "print(file.read())\n"
   ]
  },
  {
   "cell_type": "code",
   "execution_count": 15,
   "id": "9c2886c1",
   "metadata": {},
   "outputs": [
    {
     "data": {
      "text/html": [
       "<div>\n",
       "<style scoped>\n",
       "    .dataframe tbody tr th:only-of-type {\n",
       "        vertical-align: middle;\n",
       "    }\n",
       "\n",
       "    .dataframe tbody tr th {\n",
       "        vertical-align: top;\n",
       "    }\n",
       "\n",
       "    .dataframe thead th {\n",
       "        text-align: right;\n",
       "    }\n",
       "</style>\n",
       "<table border=\"1\" class=\"dataframe\">\n",
       "  <thead>\n",
       "    <tr style=\"text-align: right;\">\n",
       "      <th></th>\n",
       "      <th>Sl.no</th>\n",
       "      <th>Name</th>\n",
       "      <th>Salary</th>\n",
       "    </tr>\n",
       "  </thead>\n",
       "  <tbody>\n",
       "    <tr>\n",
       "      <th>0</th>\n",
       "      <td>1</td>\n",
       "      <td>Mohammed Fady</td>\n",
       "      <td>10</td>\n",
       "    </tr>\n",
       "    <tr>\n",
       "      <th>1</th>\n",
       "      <td>2</td>\n",
       "      <td>Mohammed Razeen</td>\n",
       "      <td>100</td>\n",
       "    </tr>\n",
       "    <tr>\n",
       "      <th>2</th>\n",
       "      <td>3</td>\n",
       "      <td>Mufeed Ahmed</td>\n",
       "      <td>1000</td>\n",
       "    </tr>\n",
       "    <tr>\n",
       "      <th>3</th>\n",
       "      <td>4</td>\n",
       "      <td>Dilshad</td>\n",
       "      <td>10000</td>\n",
       "    </tr>\n",
       "    <tr>\n",
       "      <th>4</th>\n",
       "      <td>5</td>\n",
       "      <td>Noufal</td>\n",
       "      <td>100000</td>\n",
       "    </tr>\n",
       "    <tr>\n",
       "      <th>5</th>\n",
       "      <td>6</td>\n",
       "      <td>Nihal</td>\n",
       "      <td>200</td>\n",
       "    </tr>\n",
       "    <tr>\n",
       "      <th>6</th>\n",
       "      <td>7</td>\n",
       "      <td>Jimmy</td>\n",
       "      <td>200000</td>\n",
       "    </tr>\n",
       "    <tr>\n",
       "      <th>7</th>\n",
       "      <td>8</td>\n",
       "      <td>Nandu</td>\n",
       "      <td>200000</td>\n",
       "    </tr>\n",
       "    <tr>\n",
       "      <th>8</th>\n",
       "      <td>9</td>\n",
       "      <td>abi</td>\n",
       "      <td>3000</td>\n",
       "    </tr>\n",
       "    <tr>\n",
       "      <th>9</th>\n",
       "      <td>10</td>\n",
       "      <td>Kuttan</td>\n",
       "      <td>40000</td>\n",
       "    </tr>\n",
       "  </tbody>\n",
       "</table>\n",
       "</div>"
      ],
      "text/plain": [
       "   Sl.no             Name  Salary\n",
       "0      1    Mohammed Fady      10\n",
       "1      2  Mohammed Razeen     100\n",
       "2      3     Mufeed Ahmed    1000\n",
       "3      4          Dilshad   10000\n",
       "4      5           Noufal  100000\n",
       "5      6            Nihal     200\n",
       "6      7            Jimmy  200000\n",
       "7      8            Nandu  200000\n",
       "8      9              abi    3000\n",
       "9     10           Kuttan   40000"
      ]
     },
     "execution_count": 15,
     "metadata": {},
     "output_type": "execute_result"
    }
   ],
   "source": [
    "# Structure - Tabular data \n",
    "#unstructured \n",
    "#pandas-it is  a package.Its used to perform\n",
    "\n",
    "import pandas as pd\n",
    "file=pd.read_csv(r\"C:\\Users\\mohammed razeen\\Documents\\InLustro\\booknew.csv\")\n",
    "file"
   ]
  },
  {
   "cell_type": "code",
   "execution_count": null,
   "id": "f04878c9",
   "metadata": {},
   "outputs": [],
   "source": []
  },
  {
   "cell_type": "code",
   "execution_count": 16,
   "id": "4cfc3a4f",
   "metadata": {},
   "outputs": [],
   "source": [
    "#Read the file and return longest  sequence\n",
    "#with- no need to use close funtion\n",
    "def ls(filepath):\n",
    "    with open(filepath,\"r\")as file:\n",
    "        text=file.read()\n",
    "        sentence=text.split(r'(?<=[.!?])',text)\n",
    "        sentences=[i.strip()for i in sentence if i.strip()]\n",
    "        max_sentence=max(sentences,len(sentences))\n",
    "        return max_sentence\n"
   ]
  },
  {
   "cell_type": "code",
   "execution_count": 17,
   "id": "81dabc61",
   "metadata": {},
   "outputs": [],
   "source": [
    "#class and object\n",
    "#thefour pillars in oops\n",
    "#Abstraction,Encapsulation,Inheritance,\n",
    "\n",
    "#Abstarction-Hiding the internal informations or details and showing only the necessary parts of an object or process but gives the output.\n",
    "#Encapsulation-wrapping or binding  all the information or data in a single unit\n",
    "#Inheritance- Means inheriting behaviour from the parent class``"
   ]
  },
  {
   "cell_type": "code",
   "execution_count": 18,
   "id": "9e156e74",
   "metadata": {},
   "outputs": [
    {
     "name": "stdout",
     "output_type": "stream",
     "text": [
      "Animal makes a sound\n",
      "dog barks\n",
      "Cat meows\n",
      "snake hisses\n"
     ]
    }
   ],
   "source": [
    "class Animal():\n",
    "    def sound(self):\n",
    "        print(\"Animal makes a sound\")\n",
    "\n",
    "class Dog(Animal):\n",
    "    def sound(self):\n",
    "        print(\"dog barks\")\n",
    "class Cat(Animal):\n",
    "    def sound(self):\n",
    "        print(\"Cat meows\")\n",
    "\n",
    "class Snake(Animal):\n",
    "    def sound(self):\n",
    "        print(\"snake hisses\")\n",
    "\n",
    "#Create objects\n",
    "\n",
    "a = Animal()\n",
    "d = Dog()\n",
    "c = Cat()\n",
    "s=Snake()\n",
    "\n",
    "# Call sound() method on each object\n",
    "a.sound()  \n",
    "d.sound() \n",
    "c.sound() \n",
    "s.sound()\n"
   ]
  },
  {
   "cell_type": "code",
   "execution_count": 19,
   "id": "73fce015",
   "metadata": {},
   "outputs": [
    {
     "name": "stdout",
     "output_type": "stream",
     "text": [
      "The college dept is ----------------     \n",
      "My dept is CSE\n",
      "My dept is AIDS\n",
      "My dept is Cyber\n"
     ]
    }
   ],
   "source": [
    "class shanmugha():\n",
    "    def dept(self):\n",
    "        print(\"The college dept is ----------------     \")\n",
    "\n",
    "class CSE(shanmugha):\n",
    "    def dept(self):\n",
    "        print(\"My dept is CSE\")\n",
    "\n",
    "class AIDS(shanmugha):\n",
    "    def dept(self):\n",
    "        print(\"My dept is AIDS\")\n",
    "\n",
    "class Cyber(shanmugha):\n",
    "    def dept(self):\n",
    "        print(\"My dept is Cyber\")\n",
    "\n",
    "\n",
    "#create object\n",
    "s=shanmugha()\n",
    "c=CSE()\n",
    "a=AIDS()\n",
    "y=Cyber()\n",
    "\n",
    "\n",
    "#call method\n",
    "s.dept()\n",
    "c.dept()\n",
    "a.dept()\n",
    "y.dept()"
   ]
  },
  {
   "cell_type": "code",
   "execution_count": 20,
   "id": "4e1f6e99",
   "metadata": {},
   "outputs": [
    {
     "name": "stdout",
     "output_type": "stream",
     "text": [
      "student name is: Alice\n",
      "Roll number is : CSE101\n",
      "\n",
      "student name is: Bob\n",
      "Roll number is : CSE102\n",
      "\n"
     ]
    }
   ],
   "source": [
    "class student:\n",
    "\n",
    "    def __init__(self,name,roll_number):\n",
    "        self.name=name\n",
    "        self.roll_number=roll_number\n",
    "\n",
    "\n",
    "    def display(self):\n",
    "        print(\"student name is:\",self.name)\n",
    "        print(\"Roll number is :\",self.roll_number)\n",
    "        print()\n",
    "\n",
    "student1=student(\"Alice\",\"CSE101\")\n",
    "student2=student(\"Bob\",\"CSE102\")\n",
    "\n",
    "student1.display()\n",
    "student2.display()"
   ]
  },
  {
   "cell_type": "code",
   "execution_count": 21,
   "id": "a8e2c2fe",
   "metadata": {},
   "outputs": [
    {
     "name": "stdout",
     "output_type": "stream",
     "text": [
      "manager info: \n",
      "Name  alice\n",
      "Salary 70000\n",
      "i am a manager\n",
      "\n",
      "developer info:\n",
      "Name  azeez\n",
      "Salary 400000\n",
      "i am a developer\n"
     ]
    }
   ],
   "source": [
    "class Employee:\n",
    "    def __init__(self,name,salary):\n",
    "        self.name=name\n",
    "        self.salary=salary\n",
    "\n",
    "\n",
    "    def show_details(self):\n",
    "        print(\"Name \",self.name)\n",
    "        print(\"Salary\",self.salary)\n",
    "class manager(Employee):\n",
    "    def show_role(self):\n",
    "        print(\"i am a manager\")\n",
    "class developer (Employee):\n",
    "    def show_role (self):\n",
    "        print (\"i am a developer\")\n",
    "\n",
    "\n",
    "manager1=manager(\"alice\",70000)\n",
    "developer1=developer(\"azeez\",400000)\n",
    "\n",
    "print(\"manager info: \")\n",
    "manager1.show_details()\n",
    "manager1.show_role()\n",
    "\n",
    "print (\"\\ndeveloper info:\")\n",
    "developer1.show_details()\n",
    "developer1.show_role()"
   ]
  },
  {
   "cell_type": "code",
   "execution_count": 22,
   "id": "74f0b8b9",
   "metadata": {},
   "outputs": [
    {
     "name": "stdout",
     "output_type": "stream",
     "text": [
      "Animal sound:\n",
      "Some sound\n",
      "Dog sound:\n",
      "Bark\n",
      "Cat sound:\n",
      "Meow\n"
     ]
    }
   ],
   "source": [
    "\n",
    "class Animal:\n",
    "    def make_sound(self):\n",
    "        print(\"Some sound\")\n",
    "\n",
    "\n",
    "class Dog(Animal):\n",
    "    def make_sound(self):\n",
    "        print(\"Bark\")\n",
    "\n",
    "\n",
    "class Cat(Animal):\n",
    "    def make_sound(self):\n",
    "        print(\"Meow\")\n",
    "\n",
    "\n",
    "animal = Animal()\n",
    "dog = Dog()\n",
    "cat = Cat()\n",
    "\n",
    "print(\"Animal sound:\")\n",
    "animal.make_sound()\n",
    "\n",
    "print(\"Dog sound:\")\n",
    "dog.make_sound()\n",
    "\n",
    "print(\"Cat sound:\")\n",
    "cat.make_sound()\n"
   ]
  },
  {
   "cell_type": "code",
   "execution_count": 23,
   "id": "27013b9f",
   "metadata": {},
   "outputs": [],
   "source": [
    "####################################################################################################\n",
    "\n",
    "#DAY 9               [23/JULY/2025]\n",
    "\n",
    "####################################################################################################"
   ]
  },
  {
   "cell_type": "code",
   "execution_count": 24,
   "id": "b181dc3b",
   "metadata": {},
   "outputs": [],
   "source": [
    "#Encapsulation- Binding the data into the single unit\n",
    "#Methods- setter and getter\n",
    "\n",
    "#Access modifiers-Public, Private,Protected"
   ]
  },
  {
   "cell_type": "code",
   "execution_count": 25,
   "id": "d2df8b9c",
   "metadata": {},
   "outputs": [
    {
     "name": "stdout",
     "output_type": "stream",
     "text": [
      "The name is godson and the age is 19 \n"
     ]
    },
    {
     "data": {
      "text/plain": [
       "(55, 'Neymar')"
      ]
     },
     "execution_count": 25,
     "metadata": {},
     "output_type": "execute_result"
    }
   ],
   "source": [
    "class person():\n",
    "    def __init__(self,name,age): #Constructor also it is default method where we will insert the things in the qn . //ex:student,roll_number,salary\n",
    "        self.name=name   #public-No underscore        #abc or self yis a parameter,without self you can excute the program inside the method.\n",
    "        self.__age=19           #private - double underscore it is private\n",
    "    def display(self):\n",
    "        print(f\"The name is {self.name} and the age is {self.__age} \")\n",
    "\n",
    "    def setter(self,new_age,new_name):\n",
    "        if new_age>0:\n",
    "            self.__age=new_age\n",
    "        self.name=new_name\n",
    "    def getter(self):\n",
    "        return self.__age,self.name\n",
    "    \n",
    "    \n",
    "P1=person(\"godson\",0)\n",
    "\n",
    "\n",
    "P1.display()        \n",
    "\n",
    "P1.setter(55,\"Neymar\")\n",
    "P1.getter()\n",
    "#P1.__age() This won't work as it is private"
   ]
  },
  {
   "cell_type": "code",
   "execution_count": 26,
   "id": "5a1666a5",
   "metadata": {},
   "outputs": [
    {
     "name": "stdout",
     "output_type": "stream",
     "text": [
      "The pin is 1234\n"
     ]
    },
    {
     "data": {
      "text/plain": [
       "9583"
      ]
     },
     "execution_count": 26,
     "metadata": {},
     "output_type": "execute_result"
    }
   ],
   "source": [
    "#create ATM class\n",
    "#__init__-pin ;(This pin should be in private)\n",
    "#setter method-\n",
    "#getter method-\n",
    "\n",
    "class ATM:\n",
    "    def __init__(self,pin):\n",
    "        self.__pin = pin\n",
    "    \n",
    "    def display(self):\n",
    "        print(f\"The pin is {self.__pin}\")\n",
    "\n",
    "\n",
    "    def setter(self,new_pin):\n",
    "        if (len(str(new_pin))==4):\n",
    "            self.__pin=new_pin\n",
    "        else:\n",
    "            print(\"invalid pin\")\n",
    "\n",
    "    def getter(self):\n",
    "        return self.__pin\n",
    "    \n",
    "Pin=ATM(1234)\n",
    "Pin.display()\n",
    "Pin.setter(9583)\n",
    "Pin.getter()\n",
    "\n"
   ]
  },
  {
   "cell_type": "code",
   "execution_count": 27,
   "id": "dd18d492",
   "metadata": {},
   "outputs": [
    {
     "name": "stdout",
     "output_type": "stream",
     "text": [
      "Bird is flying\n",
      "Flight Flies\n",
      "superman is flying using superpowers\n"
     ]
    }
   ],
   "source": [
    "#Polymorphism- We can perform  the task in many ways.(same methods different behaviours)\n",
    "\n",
    "class Bird:\n",
    "    def fly(self):\n",
    "        print(\"Bird is flying\")\n",
    "class flight:\n",
    "    def fly(self):\n",
    "        print(\"Flight Flies\")\n",
    "class superman:\n",
    "    def fly(self):\n",
    "        print(\"superman is flying using superpowers\")\n",
    "B1 = [Bird(),flight(),superman()]\n",
    "for i in B1:\n",
    "    i.fly()\n",
    "\n",
    "\n",
    "\n"
   ]
  },
  {
   "cell_type": "code",
   "execution_count": 28,
   "id": "174dc6d9",
   "metadata": {},
   "outputs": [
    {
     "name": "stdout",
     "output_type": "stream",
     "text": [
      "Car is moving on road\n",
      "Bike is on top of mountain\n",
      "Captain is sailing the ship\n"
     ]
    }
   ],
   "source": [
    "#Inheritance with Polymorphism\n",
    "class vehicle:\n",
    "    def ride(self):\n",
    "        print(\"how to ride\")\n",
    "class Car(vehicle):\n",
    "    def ride(self):\n",
    "        print(\"Car is moving on road\")\n",
    "class bike(vehicle):\n",
    "    def ride(self):\n",
    "        print(\"Bike is on top of mountain\")\n",
    "class Ship(vehicle):\n",
    "    def ride(self):\n",
    "        print(\"Captain is sailing the ship\")\n",
    "B1 = [Car(),bike(),Ship()]\n",
    "for i in B1:\n",
    "    i.ride()"
   ]
  },
  {
   "cell_type": "code",
   "execution_count": 29,
   "id": "73045074",
   "metadata": {},
   "outputs": [
    {
     "name": "stdout",
     "output_type": "stream",
     "text": [
      "Washing the fruits\n",
      "Cut the fruits using the knife\n",
      "Mix the fruits using grinder\n",
      "Add 10 TSpoon of sugar\n",
      "SERVE AND ENJOY!\n"
     ]
    }
   ],
   "source": [
    "#Abstraction\n",
    "class juicemaker():\n",
    "    def make_juice(self):\n",
    "        self.__wash()\n",
    "        self.__cutting_the_fruits()\n",
    "        self.__blend()\n",
    "        self.__adding_sugar()\n",
    "        self.__serve()\n",
    "    def __wash(self):\n",
    "        print(\"Washing the fruits\")\n",
    "    def __cutting_the_fruits(self):\n",
    "        print(\"Cut the fruits using the knife\")\n",
    "    def __blend(self):\n",
    "        print(\"Mix the fruits using grinder\")\n",
    "    def __adding_sugar(self):\n",
    "        print(\"Add 10 TSpoon of sugar\")\n",
    "    def __serve(self):\n",
    "        print(\"SERVE AND ENJOY!\")\n",
    "\n",
    "jm=juicemaker()\n",
    "jm.make_juice()"
   ]
  },
  {
   "cell_type": "code",
   "execution_count": 30,
   "id": "9cb4a910",
   "metadata": {},
   "outputs": [],
   "source": [
    "# 1. Encapsulation — Smart Thermostat System \n",
    "\n",
    "# You're developing a smart thermostat. The internal temperature (__current_temp) and user \n",
    "# settings (__target_temp) must not be modified directly from outside. Only system-approved \n",
    "# methods should allow updates, ensuring the heater or cooler responds correctly. \n",
    "# Concept: Protect internal states with private variables and expose only controlled methods like \n",
    "# set_target_temp(). \n",
    "\n"
   ]
  },
  {
   "cell_type": "code",
   "execution_count": 31,
   "id": "7daf100a",
   "metadata": {},
   "outputs": [
    {
     "name": "stdout",
     "output_type": "stream",
     "text": [
      "Target temperature set to: 27\n",
      "Cooler ON\n"
     ]
    },
    {
     "data": {
      "text/plain": [
       "27"
      ]
     },
     "execution_count": 31,
     "metadata": {},
     "output_type": "execute_result"
    }
   ],
   "source": [
    "class SmartThermostat:\n",
    "    def __init__(self,current_temp,target_temp):\n",
    "        self.__current_temp = current_temp   \n",
    "        self.__target_temp = target_temp     \n",
    "\n",
    "    def setter(self, temp):\n",
    "        if temp >= 16 and temp <= 30:\n",
    "            self.__target_temp = temp\n",
    "            print(\"Target temperature set to:\", temp)\n",
    "            if self.__current_temp < self.__target_temp:\n",
    "                print(\"Heater ON\")\n",
    "            elif self.__current_temp > self.__target_temp:\n",
    "                print(\"Cooler ON\")\n",
    "            else:\n",
    "                print(\"Temperature is just right!\")\n",
    "        else:\n",
    "            print(\"Please set temperature between 16 and 30.\")\n",
    "\n",
    "    def getter(self):\n",
    "        return self.__target_temp\n",
    "\n",
    "\n",
    "thermo = SmartThermostat(29,25)\n",
    "\n",
    "thermo.setter(27)\n",
    "thermo.getter()\n",
    "\n"
   ]
  },
  {
   "cell_type": "code",
   "execution_count": 32,
   "id": "8a60a650",
   "metadata": {},
   "outputs": [],
   "source": [
    "# 2. Abstraction — Travel Booking System \n",
    "# A travel booking site lets users search and book flights. The user sees a simple interface: \n",
    "# search_flights(source, destination) and book_ticket(). Behind the scenes, the system connects to \n",
    "# multiple airline APIs, checks seat availability, applies discounts, and more. \n",
    "# Concept: Show only necessary functions; hide the complex backend processes."
   ]
  },
  {
   "cell_type": "code",
   "execution_count": 33,
   "id": "ae827fee",
   "metadata": {},
   "outputs": [
    {
     "name": "stdout",
     "output_type": "stream",
     "text": [
      "Searching for flights from Chennai to Mumbai...\n",
      "Connecting to airline servers...\n",
      "Filtering available flights...\n",
      "Available flights: Flight101, Flight202\n",
      "Booking flight: Flight101...\n",
      "Checking seat availability...\n",
      "Applying discounts...\n",
      "Confirming with airline...\n",
      "Ticket booked successfully!\n"
     ]
    }
   ],
   "source": [
    "class TravelBookingSystem:\n",
    "    def search_flights(self, source, destination):\n",
    "        print(f\"Searching for flights from {source} to {destination}...\")\n",
    "        self.__connect_to_airlines()\n",
    "        self.__filter_flights()\n",
    "        print(\"Available flights: Flight101, Flight202\")\n",
    "\n",
    "    def book_ticket(self, flight_number):\n",
    "        print(f\"Booking flight: {flight_number}...\")\n",
    "        self.__check_seats()\n",
    "        self.__apply_discounts()\n",
    "        self.__confirm_booking()\n",
    "        print(\"Ticket booked successfully!\")\n",
    "\n",
    "    def __connect_to_airlines(self):\n",
    "        print(\"Connecting to airline servers...\")\n",
    "\n",
    "    def __filter_flights(self):\n",
    "        print(\"Filtering available flights...\")\n",
    "\n",
    "    def __check_seats(self):\n",
    "        print(\"Checking seat availability...\")\n",
    "\n",
    "    def __apply_discounts(self):\n",
    "        print(\"Applying discounts...\")\n",
    "\n",
    "    def __confirm_booking(self):\n",
    "        print(\"Confirming with airline...\")\n",
    "\n",
    "\n",
    "user = TravelBookingSystem()\n",
    "user.search_flights(\"Chennai\", \"Mumbai\")\n",
    "user.book_ticket(\"Flight101\")\n"
   ]
  },
  {
   "cell_type": "code",
   "execution_count": 34,
   "id": "d0a33f99",
   "metadata": {},
   "outputs": [],
   "source": [
    "# 3. Inheritance — Hospital Management System \n",
    "# A hospital has a base class Staff with common attributes like name, ID, and department. \n",
    "# Subclasses like Doctor, Nurse, and Receptionist inherit from it and add their own methods like \n",
    "# diagnose(), assist_surgery(), or schedule_appointments(). \n",
    "# # Concept: Use inheritance to reuse and extend base functionality."
   ]
  },
  {
   "cell_type": "code",
   "execution_count": 35,
   "id": "34dccf13",
   "metadata": {},
   "outputs": [
    {
     "name": "stdout",
     "output_type": "stream",
     "text": [
      "Name: Akash T, ID: 101, Department: Cardiology\n",
      "Dr. Akash T is diagnosing patients.\n",
      "\n",
      "Name: Kevin Debryune, ID: 102, Department: Surgery\n",
      "Nurse Kevin Debryune is assisting in surgery.\n",
      "\n",
      "Name: Terstegen, ID: 103, Department: Front Desk\n",
      "Receptionist Terstegen is scheduling appointments.\n",
      "\n"
     ]
    }
   ],
   "source": [
    "\n",
    "class Staff:\n",
    "    def __init__(self, name, staff_id, department):\n",
    "        self.name = name\n",
    "        self.staff_id = staff_id\n",
    "        self.department = department\n",
    "\n",
    "    def display(self):\n",
    "        print(f\"Name: {self.name}, ID: {self.staff_id}, Department: {self.department}\")\n",
    "\n",
    "class Doctor(Staff):\n",
    "    def perform_duty(self):  \n",
    "        print(f\"Dr. {self.name} is diagnosing patients.\")\n",
    "\n",
    "\n",
    "class Nurse(Staff):\n",
    "    def perform_duty(self): \n",
    "        print(f\"Nurse {self.name} is assisting in surgery.\")\n",
    "\n",
    "\n",
    "class Receptionist(Staff):\n",
    "    def perform_duty(self): \n",
    "        print(f\"Receptionist {self.name} is scheduling appointments.\")\n",
    "\n",
    "\n",
    "staff_members = [\n",
    "    Doctor(\"Akash T\", 101, \"Cardiology\"),\n",
    "    Nurse(\"Kevin Debryune\", 102, \"Surgery\"),\n",
    "    Receptionist(\"Terstegen\", 103, \"Front Desk\")\n",
    "]\n",
    "\n",
    "for member in staff_members:\n",
    "    member.display()\n",
    "    member.perform_duty()  \n",
    "    print()\n"
   ]
  },
  {
   "cell_type": "code",
   "execution_count": 36,
   "id": "1754ba35",
   "metadata": {},
   "outputs": [],
   "source": [
    "# 4. Polymorphism — Notification System \n",
    "# You're building an app that sends notifications via Email, SMS, and Push Notifications. All \n",
    "# notification classes implement a send() method. The system loops over a list of notifications and \n",
    "# calls send() without checking their type. \n",
    "# Concept: All notification types behave differently but share the same method signature."
   ]
  },
  {
   "cell_type": "code",
   "execution_count": 37,
   "id": "db62f9a8",
   "metadata": {},
   "outputs": [
    {
     "name": "stdout",
     "output_type": "stream",
     "text": [
      "Sending Email Notification...\n",
      "Sending SMS Notification...\n",
      "Sending Push Notification...\n"
     ]
    }
   ],
   "source": [
    "\n",
    "class EmailNotification:\n",
    "    def send(self):\n",
    "        print(\"Sending Email Notification...\")\n",
    "\n",
    "class SMSNotification:\n",
    "    def send(self):\n",
    "        print(\"Sending SMS Notification...\")\n",
    "\n",
    "class PushNotification:\n",
    "    def send(self):\n",
    "        print(\"Sending Push Notification...\")\n",
    "\n",
    "notifications = [\n",
    "    EmailNotification(),\n",
    "    SMSNotification(),\n",
    "    PushNotification()\n",
    "]\n",
    "\n",
    "for i in notifications:\n",
    "    i.send()\n"
   ]
  }
 ],
 "metadata": {
  "kernelspec": {
   "display_name": "Python 3",
   "language": "python",
   "name": "python3"
  },
  "language_info": {
   "codemirror_mode": {
    "name": "ipython",
    "version": 3
   },
   "file_extension": ".py",
   "mimetype": "text/x-python",
   "name": "python",
   "nbconvert_exporter": "python",
   "pygments_lexer": "ipython3",
   "version": "3.13.5"
  }
 },
 "nbformat": 4,
 "nbformat_minor": 5
}
