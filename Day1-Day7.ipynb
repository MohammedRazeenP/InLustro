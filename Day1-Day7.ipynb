{
 "cells": [
  {
   "cell_type": "code",
   "execution_count": 12,
   "id": "209ded07",
   "metadata": {},
   "outputs": [
    {
     "name": "stdout",
     "output_type": "stream",
     "text": [
      "hello world\n"
     ]
    }
   ],
   "source": [
    "print(\"hello world\")"
   ]
  },
  {
   "cell_type": "code",
   "execution_count": 1,
   "id": "c1abbe3d",
   "metadata": {},
   "outputs": [
    {
     "name": "stdout",
     "output_type": "stream",
     "text": [
      "I am learning\n",
      "I am learning\n",
      "I am learning\n",
      "I am learning\n",
      "I am learning\n",
      "I am learning\n"
     ]
    }
   ],
   "source": [
    "num=5\n",
    "while num>=0:\n",
    "    print(\"I am learning\")\n",
    "    num-=1"
   ]
  },
  {
   "cell_type": "code",
   "execution_count": 2,
   "id": "75adefeb",
   "metadata": {},
   "outputs": [
    {
     "name": "stdout",
     "output_type": "stream",
     "text": [
      "10\n"
     ]
    }
   ],
   "source": [
    "price_value=[1,2,3,4]\n",
    "sum=0 #intialization\n",
    "for i in range(4):\n",
    "    sum+=price_value[i]\n",
    "print(sum)"
   ]
  },
  {
   "cell_type": "code",
   "execution_count": 1,
   "id": "d274cb7f",
   "metadata": {},
   "outputs": [
    {
     "name": "stdout",
     "output_type": "stream",
     "text": [
      "5* 1 = 5\n",
      "5* 2 = 10\n",
      "5* 3 = 15\n",
      "5* 4 = 20\n",
      "5* 5 = 25\n",
      "5* 6 = 30\n",
      "5* 7 = 35\n",
      "5* 8 = 40\n",
      "5* 9 = 45\n",
      "5* 10 = 50\n"
     ]
    }
   ],
   "source": [
    "for i in range (1,11):\n",
    "    print(\"5*\",i,\"=\",5*i)"
   ]
  },
  {
   "cell_type": "code",
   "execution_count": 23,
   "id": "a3c84e09",
   "metadata": {},
   "outputs": [
    {
     "name": "stdout",
     "output_type": "stream",
     "text": [
      "Lights are Partially ON \n"
     ]
    }
   ],
   "source": [
    "sensor_1=int(input())\n",
    "sensor_2=int(input())\n",
    "if (sensor_1 & sensor_2):\n",
    "    print(\"All lights ar ON\")\n",
    "elif (sensor_1|sensor_2):\n",
    "    print(\"Lights are Partially ON \")\n",
    "else:\n",
    "    print(\"Lights are OFF\")"
   ]
  },
  {
   "cell_type": "code",
   "execution_count": 24,
   "id": "f5730a99",
   "metadata": {},
   "outputs": [
    {
     "name": "stdout",
     "output_type": "stream",
     "text": [
      "10\n"
     ]
    }
   ],
   "source": [
    "list1=[1,2,3,4,5,6,7,8,9,0]\n",
    "count=0\n",
    "for i in list1:\n",
    "    count+=1\n",
    "print(count)"
   ]
  },
  {
   "cell_type": "code",
   "execution_count": 26,
   "id": "720c7bbf",
   "metadata": {},
   "outputs": [
    {
     "name": "stdout",
     "output_type": "stream",
     "text": [
      "L\n",
      "I\n",
      "O\n",
      "N\n",
      "E\n",
      "L\n",
      " \n",
      "M\n",
      "E\n",
      "S\n",
      "S\n",
      "I\n"
     ]
    }
   ],
   "source": [
    "word=\"LIONEL MESSI\"\n",
    "for i in word:\n",
    "    print(i)"
   ]
  },
  {
   "cell_type": "code",
   "execution_count": 32,
   "id": "2606ae65",
   "metadata": {},
   "outputs": [
    {
     "name": "stdout",
     "output_type": "stream",
     "text": [
      "Lionel Messi\n",
      "Luis Suarez\n",
      "Neymar JR\n",
      " \n",
      "Xavi\n",
      "Iniesta\n"
     ]
    }
   ],
   "source": [
    "list=[\"Lionel Messi\",\"Luis Suarez\",\"Neymar JR\",\" \",\"Xavi\",\"Iniesta\"]\n",
    "for i in list:\n",
    "    print(i)"
   ]
  },
  {
   "cell_type": "code",
   "execution_count": 33,
   "id": "9898159b",
   "metadata": {},
   "outputs": [
    {
     "name": "stdout",
     "output_type": "stream",
     "text": [
      "9\n"
     ]
    }
   ],
   "source": [
    "#while loop\n",
    "list1=[1,2,3,4,5,6,7,8,9]\n",
    "count=0\n",
    "index=0\n",
    "while index<len(list1):\n",
    "    count+=1\n",
    "    index+=1\n",
    "print(count)"
   ]
  },
  {
   "cell_type": "code",
   "execution_count": null,
   "id": "7ffd8045",
   "metadata": {},
   "outputs": [
    {
     "name": "stdout",
     "output_type": "stream",
     "text": [
      "Only 2 attempts there\n",
      "Only 1 attempts there\n"
     ]
    }
   ],
   "source": [
    "#while loop\n",
    "#1.Get the user name and password\n",
    "#2.Definr a std username and password\n",
    "#3.Login Succesfully\n",
    "#4.Attempts =3\n",
    "\n",
    "\n",
    "username = \"Tebin\"\n",
    "password = \"1234\"\n",
    "attempts = 3\n",
    "while attempts>0:\n",
    "    \n",
    "    username1 = input(\"enter the username: \")\n",
    "    password1 = int(input(\"enter the password: \"))\n",
    "    if (username == username1 and password == password1):\n",
    "        print (\"login sucessful\")\n",
    "        break\n",
    "    else:    \n",
    "        attempts -=1\n",
    "        print(f\"Only {attempts} attempts there\")\n",
    "if (attempts==0):\n",
    "    print(\"You  tried too many times ....Sorry Better luck next time!\")"
   ]
  },
  {
   "cell_type": "code",
   "execution_count": null,
   "id": "4d79b437",
   "metadata": {},
   "outputs": [
    {
     "name": "stdout",
     "output_type": "stream",
     "text": [
      "Pin number is verified\n",
      "Withdrawn successfull , Remaining balance : 15 \n"
     ]
    },
    {
     "ename": "",
     "evalue": "",
     "output_type": "error",
     "traceback": [
      "\u001b[1;31mThe Kernel crashed while executing code in the current cell or a previous cell. \n",
      "\u001b[1;31mPlease review the code in the cell(s) to identify a possible cause of the failure. \n",
      "\u001b[1;31mClick <a href='https://aka.ms/vscodeJupyterKernelCrash'>here</a> for more info. \n",
      "\u001b[1;31mView Jupyter <a href='command:jupyter.viewOutput'>log</a> for further details."
     ]
    }
   ],
   "source": [
    "#enter the bank balance\n",
    "#enter the withdrawn amount\n",
    "#first you define the pin number \n",
    "# then get the pin number from the user\n",
    "\n",
    "correct_pin=\"3214\"\n",
    "bank_balanace=50\n",
    "attempts=4\n",
    "\n",
    "while attempts>0:\n",
    "    entered_pin=(input(\"Enter the pin number : \"))\n",
    "    if entered_pin==correct_pin:\n",
    "        print(\"Pin number is verified\")\n",
    "        withdraw=int(input(\"Enter the amount to be withdrawn : \"))\n",
    "\n",
    "        if withdraw<=bank_balanace:\n",
    "             bank_balanace-=withdraw\n",
    "             print(f\"Withdrawn successfull , Remaining balance : {bank_balanace} \")\n",
    "             break\n",
    "        else:\n",
    "              print(\"Insufficient Balance\")\n",
    "\n",
    "    else:\n",
    "        attempts-=1\n",
    "        if attempts>0:\n",
    "              print(f\"You have {attempts} attempts left\")\n",
    "        else:\n",
    "             print(\"Too many attempts! Your account is temporarily Blocked\")\n",
    "    \n",
    "\n"
   ]
  },
  {
   "cell_type": "code",
   "execution_count": null,
   "id": "2b10a01d",
   "metadata": {},
   "outputs": [],
   "source": [
    "#use while loop\n",
    "#get the feedback from the user\n",
    "#If i give stop,It need to print like \"thanks for your feedback\"\n",
    "\n",
    "while True:\n",
    "    feedback=input(\"Write your Feedback(Type stop to stop the program): \")\n",
    "    if (feedback==\"stop\"):\n",
    "        print(\"Thanks for your Feedback!\")\n",
    "        \n",
    "    else:\n",
    "        print(feedback)\n",
    "    break"
   ]
  },
  {
   "cell_type": "code",
   "execution_count": 1,
   "id": "417f73ba",
   "metadata": {},
   "outputs": [
    {
     "name": "stdout",
     "output_type": "stream",
     "text": [
      "Hello my name is Razeen  p and my age is 20\n"
     ]
    }
   ],
   "source": [
    "#function-def keyword\n",
    "#A variable used in the function definition.\n",
    "\n",
    "\n",
    "def my_func(fname,lastname,age):\n",
    "    print(f\"Hello my name is {fname}  {lastname} and my age is {age}\")\n",
    "my_func(\"Razeen\",\"p\",20)\n",
    "\n",
    "\n",
    "\n"
   ]
  },
  {
   "cell_type": "code",
   "execution_count": 2,
   "id": "7a3e38c1",
   "metadata": {},
   "outputs": [
    {
     "name": "stdout",
     "output_type": "stream",
     "text": [
      "The Child name is Rishal\n"
     ]
    }
   ],
   "source": [
    "#keyword arguments\n",
    "def my_func(child1,child2,child3):\n",
    "    print(f\"The Child name is {child1}\")\n",
    "my_func(child1=\"Rishal\",child2=\"Niranjan\",child3=\"Aaaaa\")"
   ]
  },
  {
   "cell_type": "code",
   "execution_count": null,
   "id": "87c19fdb",
   "metadata": {},
   "outputs": [
    {
     "name": "stdout",
     "output_type": "stream",
     "text": [
      "My child name is rishal\n"
     ]
    }
   ],
   "source": [
    "#arbitary arguments - we dont know how many arguments we passed here -*args\n",
    "\n",
    "def my_func(*childs):\n",
    "    print(f\"My child name is {childs[0]}\")\n",
    "my_func(\"rishal\",\"jo\",\"salman\",\"afreed\")"
   ]
  },
  {
   "cell_type": "code",
   "execution_count": 13,
   "id": "213332d8",
   "metadata": {},
   "outputs": [
    {
     "name": "stdout",
     "output_type": "stream",
     "text": [
      "The fruit feature is circle  \n"
     ]
    }
   ],
   "source": [
    "#arbitary keyword argument - **kwargs\n",
    "#** denotes you can assign the key words\n",
    "\n",
    "def myfunction(**fruits):\n",
    "    print(f\"The fruit feature is {fruits[\"shape\"]}  \")\n",
    "\n",
    "myfunction(fruitname=\"orange\",color=\"orange\",shape=\"circle\")"
   ]
  },
  {
   "cell_type": "code",
   "execution_count": 18,
   "id": "1fea71a4",
   "metadata": {},
   "outputs": [
    {
     "name": "stdout",
     "output_type": "stream",
     "text": [
      "my country name is  india\n",
      "my country name is  usa\n",
      "my country name is  china\n",
      "my country name is  india\n"
     ]
    }
   ],
   "source": [
    "def myfunction(country=\"india\"):\n",
    "    print(f\"my country name is  {country}\")\n",
    "myfunction()\n",
    "myfunction(\"usa\")\n",
    "myfunction(\"china\")\n",
    "myfunction()"
   ]
  },
  {
   "cell_type": "code",
   "execution_count": 22,
   "id": "fb14dd13",
   "metadata": {},
   "outputs": [
    {
     "data": {
      "text/plain": [
       "50"
      ]
     },
     "execution_count": 22,
     "metadata": {},
     "output_type": "execute_result"
    }
   ],
   "source": [
    "def my_func(x):\n",
    "    return 5*x\n",
    "my_func(5)\n",
    "my_func(10)"
   ]
  },
  {
   "cell_type": "code",
   "execution_count": 20,
   "id": "99d60356",
   "metadata": {},
   "outputs": [
    {
     "name": "stdout",
     "output_type": "stream",
     "text": [
      "25\n",
      "50\n"
     ]
    }
   ],
   "source": [
    "def my_func(x):\n",
    "    print(5*x)\n",
    "my_func(5)\n",
    "my_func(10)"
   ]
  },
  {
   "cell_type": "code",
   "execution_count": 8,
   "id": "c3670724",
   "metadata": {},
   "outputs": [
    {
     "name": "stdout",
     "output_type": "stream",
     "text": [
      "local\n"
     ]
    }
   ],
   "source": [
    "#LEGB \n",
    "#L-LOCAL\n",
    "#E-ENCLOSING\n",
    "#G-GLOBAL\n",
    "#B-BUILT IN FUNCTION\n",
    "\n",
    "\n",
    "x=\"global\"\n",
    "def outer():\n",
    "    x=\"Enclosing\"\n",
    "    def inner():\n",
    "        x=\"local\"\n",
    "        print(x)\n",
    "    inner()\n",
    "outer()\n",
    "\n"
   ]
  },
  {
   "cell_type": "code",
   "execution_count": 1,
   "id": "23b308a9",
   "metadata": {},
   "outputs": [
    {
     "name": "stdout",
     "output_type": "stream",
     "text": [
      "2\n",
      "3\n",
      "5\n",
      "7\n",
      "11\n",
      "13\n",
      "17\n",
      "19\n"
     ]
    }
   ],
   "source": [
    "#prime numbers= 2,3,5,7,11,13....\n",
    "\n",
    "def primenumber(n):\n",
    "    if (n<=1):\n",
    "        return False\n",
    "    for i in range (2,n):\n",
    "        if (n%i==0):\n",
    "            return False\n",
    "    return True\n",
    "for i in range (1,20):\n",
    "    if primenumber(i):\n",
    "        print(i)\n",
    "\n",
    "\n",
    "\n",
    "\n",
    "\n",
    "\n"
   ]
  },
  {
   "cell_type": "code",
   "execution_count": 39,
   "id": "4f01d812",
   "metadata": {},
   "outputs": [
    {
     "data": {
      "text/plain": [
       "120"
      ]
     },
     "execution_count": 39,
     "metadata": {},
     "output_type": "execute_result"
    }
   ],
   "source": [
    "#find the factorial number\n",
    "\n",
    "def factorial(n):\n",
    "    result=1\n",
    "    for i in range (1,n+1):\n",
    "        result*=i\n",
    "    return result\n",
    "factorial(5)"
   ]
  },
  {
   "cell_type": "code",
   "execution_count": 45,
   "id": "5ffe7000",
   "metadata": {},
   "outputs": [
    {
     "name": "stdout",
     "output_type": "stream",
     "text": [
      "It is palindrome\n"
     ]
    }
   ],
   "source": [
    "#palindrome\n",
    "\n",
    "def palindrome(s):\n",
    "    s.lower()\n",
    "    if(s==s[::-1]):\n",
    "        print(\"It is palindrome\")\n",
    "    else:\n",
    "        print(\"It is not a palindrome\")\n",
    "palindrome(\"121\")"
   ]
  },
  {
   "cell_type": "code",
   "execution_count": 1,
   "id": "932f6a30",
   "metadata": {},
   "outputs": [
    {
     "name": "stdout",
     "output_type": "stream",
     "text": [
      "['sachu', 25, 'TRUE']\n"
     ]
    }
   ],
   "source": [
    "#List -Collection of data \n",
    "#It is ordered,mutable{we can modify},heterogenous\n",
    "\n",
    "list1=[\"sachu\",\"richu\",24,25,27,2.33,\"TRUE\"]\n",
    "\n",
    "#positive indexing - It starts with 0\n",
    "#Negative indexing - It is a reverse order and start at -1\n",
    "print(list1[::3]) #[start:stop:step]"
   ]
  },
  {
   "cell_type": "code",
   "execution_count": 21,
   "id": "ead95a83",
   "metadata": {},
   "outputs": [],
   "source": [
    "#List methods\n",
    "#append,extend,insert,pop,remove,copy,reverse,sort,clear\n",
    "\n",
    "#append-add the value at the end of the list\n",
    "#insert-you can add the element at any position\n",
    "#extend-it can ensure to combine the list\n",
    "#pop-remove the value based on index\n",
    "#remove-you can mention the element\n",
    "#copy-you can copy the list\n",
    "#reverse-it will reverse the list of elements\n",
    "#sort-it will arrange the elements by ascending or descending\n",
    "#clear-clear the data"
   ]
  },
  {
   "cell_type": "code",
   "execution_count": 22,
   "id": "f75ac602",
   "metadata": {},
   "outputs": [
    {
     "name": "stdout",
     "output_type": "stream",
     "text": [
      "['chachu', 'vichu', 24, 89, 67.0, 'True', 'False', 'hi']\n"
     ]
    }
   ],
   "source": [
    "list1=[\"chachu\",\"vichu\",24,89,67.00,\"True\",\"False\"]\n",
    "list1.append(\"hi\")\n",
    "print(list1)"
   ]
  },
  {
   "cell_type": "code",
   "execution_count": 23,
   "id": "94dc0530",
   "metadata": {},
   "outputs": [
    {
     "name": "stdout",
     "output_type": "stream",
     "text": [
      "['chachu', 'Aadil', 'vichu', 24, 89, 'Godson', 67.0, 'True', 'False', 'hi']\n"
     ]
    }
   ],
   "source": [
    "list1=[\"chachu\",\"vichu\",24,89,67.00,\"True\",\"False\"]\n",
    "list1.append(\"hi\")\n",
    "list1.insert(1,\"Aadil\")\n",
    "list1.insert(5,\"Godson\")\n",
    "print(list1)\n"
   ]
  },
  {
   "cell_type": "code",
   "execution_count": 25,
   "id": "56f9e9b5",
   "metadata": {},
   "outputs": [
    {
     "name": "stdout",
     "output_type": "stream",
     "text": [
      "['ABC', 'Alexa', 678.57, 'chachu', 'Aadil', 'vichu', 24, 89, 'Godson', 67.0, 'True', 'False', 'hi']\n"
     ]
    }
   ],
   "source": [
    "list1=[\"chachu\",\"vichu\",24,89,67.00,\"True\",\"False\"]\n",
    "list1.append(\"hi\")\n",
    "list1.insert(1,\"Aadil\")\n",
    "list1.insert(5,\"Godson\")\n",
    "list2=[\"ABC\",\"Alexa\",678.57]\n",
    "list2.extend(list1)\n",
    "print(list2)"
   ]
  },
  {
   "cell_type": "code",
   "execution_count": 29,
   "id": "545dca28",
   "metadata": {},
   "outputs": [
    {
     "name": "stdout",
     "output_type": "stream",
     "text": [
      "['chachu', 'Aadil', 'vichu', 89, 'Godson', 67.0, 'True', 'False', 'hi']\n"
     ]
    }
   ],
   "source": [
    "list1=[\"chachu\",\"vichu\",24,89,67.00,\"True\",\"False\"]\n",
    "list1.append(\"hi\")\n",
    "list1.insert(1,\"Aadil\")\n",
    "list1.insert(5,\"Godson\")\n",
    "list1.remove(24)\n",
    "print(list1)"
   ]
  },
  {
   "cell_type": "code",
   "execution_count": 33,
   "id": "fa740bd3",
   "metadata": {},
   "outputs": [
    {
     "name": "stdout",
     "output_type": "stream",
     "text": [
      "['chachu', 'Aadil', 'vichu', 24, 89, 'Godson', 67.0, 'True', 'False', 'hi']\n",
      "['chachu', 'Aadil', 24, 89, 'Godson', 67.0, 'True', 'False', 'hi']\n"
     ]
    }
   ],
   "source": [
    "list1=[\"chachu\",\"vichu\",24,89,67.00,\"True\",\"False\"]\n",
    "list1.append(\"hi\")\n",
    "list1.insert(1,\"Aadil\")\n",
    "list1.insert(5,\"Godson\")\n",
    "print(list1)\n",
    "list1.pop(2)\n",
    "print(list1)\n"
   ]
  },
  {
   "cell_type": "code",
   "execution_count": 45,
   "id": "eeafd8fb",
   "metadata": {},
   "outputs": [
    {
     "name": "stdout",
     "output_type": "stream",
     "text": [
      "[]\n"
     ]
    }
   ],
   "source": [
    "list1=[\"chachu\",\"vichu\",24,89,67.00,\"True\",\"False\"]\n",
    "list1.clear()\n",
    "        \n",
    "    \n",
    "print(list1)\n",
    "\n"
   ]
  },
  {
   "cell_type": "code",
   "execution_count": 54,
   "id": "543c40ee",
   "metadata": {},
   "outputs": [
    {
     "name": "stdout",
     "output_type": "stream",
     "text": [
      "('hello', 'razee', 'monee', 'sugam', 'alee', 'razee', 'razee')\n",
      "('razee', 'monee', 'sugam', 'alee')\n",
      "count =  3\n",
      "index =  3\n"
     ]
    }
   ],
   "source": [
    "#tuple()\n",
    "#odered and immutable\n",
    "#only two operations (Count,Index)\n",
    "\n",
    "tuple1=(\"hello\",\"razee\",\"monee\",\"sugam\",\"alee\",\"razee\",\"razee\")\n",
    "\n",
    "print(tuple1)\n",
    "\n",
    "print(tuple1[1:5])\n",
    "\n",
    "print(\"count = \", tuple1.count(\"razee\"))\n",
    "\n",
    "print(\"index = \", tuple1.index(\"sugam\"))"
   ]
  },
  {
   "cell_type": "code",
   "execution_count": 64,
   "id": "ea7459bd",
   "metadata": {},
   "outputs": [
    {
     "name": "stdout",
     "output_type": "stream",
     "text": [
      "{1, 2, 3, 5, 6, 7, 9}\n",
      "{1, 2, 5, 6, 7, 9, 11, 12, 13}\n"
     ]
    }
   ],
   "source": [
    "#set-{},it doesnt allows the duplicates\n",
    "#we couldnt perform the slicing\n",
    "#There is no indexing\n",
    "#Unordered\n",
    "#Set methods- add,update,discard,remove,pop\n",
    "#operations - union,intersection,difference\n",
    "\n",
    "set1={1,2,2,2,3,5,6,6,6,7,9}\n",
    "print(set1)\n",
    "set1.add(11)\n",
    "set1.update([12,13])\n",
    "set1.discard(3)\n",
    "\n",
    "print(set1)"
   ]
  },
  {
   "cell_type": "code",
   "execution_count": 68,
   "id": "3f10fb01",
   "metadata": {},
   "outputs": [
    {
     "name": "stdout",
     "output_type": "stream",
     "text": [
      "{1, 2, 3, 5, 6, 7, 9, 234}\n",
      "{0, 1, 2, 3, 4, 5, 6, 7, 8, 9, 11, 12, 13}\n",
      "{0, 1, 2, 3, 4, 5, 6, 7, 8, 9, 11, 12, 13, 234}\n",
      "{234}\n"
     ]
    }
   ],
   "source": [
    "set1={1,2,2,2,3,5,6,6,6,7,9,234}\n",
    "set2={1,2,3,4,5,6,7,8,9,0,11,12,13}\n",
    "print(set1)\n",
    "print(set2)\n",
    "print(set1.union(set2))\n",
    "print(set1.difference(set2))"
   ]
  },
  {
   "cell_type": "code",
   "execution_count": 1,
   "id": "238c5fd3",
   "metadata": {},
   "outputs": [
    {
     "data": {
      "text/plain": [
       "4"
      ]
     },
     "execution_count": 1,
     "metadata": {},
     "output_type": "execute_result"
    }
   ],
   "source": [
    "#find the unique values\n",
    "def unique_item(text):\n",
    "    words=text.lower().split()\n",
    "    unique=set(words)\n",
    "    return len(unique)\n",
    "unique_item(\"Python is great.Python is simple\")"
   ]
  },
  {
   "cell_type": "code",
   "execution_count": 2,
   "id": "5a8b7750",
   "metadata": {},
   "outputs": [
    {
     "data": {
      "text/plain": [
       "8"
      ]
     },
     "execution_count": 2,
     "metadata": {},
     "output_type": "execute_result"
    }
   ],
   "source": [
    "#find the unique values\n",
    "def unique_item(text):\n",
    "    words=text.lower().split()\n",
    "    unique=set(words)\n",
    "    return len(unique)\n",
    "unique_item(\"Rashin is a good boy but sometimes rashin is a bad boy \")"
   ]
  },
  {
   "cell_type": "code",
   "execution_count": 10,
   "id": "3bf81e7c",
   "metadata": {},
   "outputs": [
    {
     "name": "stdout",
     "output_type": "stream",
     "text": [
      "[1, 2, 3, 5, 8, 9]\n"
     ]
    }
   ],
   "source": [
    "#Remove duplicates from a list \n",
    "def remove_duplicates(nums):\n",
    "    result=[]\n",
    "    for i in nums:\n",
    "        if i not in result:\n",
    "            result.append(i)\n",
    "    return result\n",
    "print(remove_duplicates([1,1,1,2,3,5,8,9]))\n",
    "\n",
    "        \n"
   ]
  },
  {
   "cell_type": "code",
   "execution_count": 9,
   "id": "db3d16a4",
   "metadata": {},
   "outputs": [
    {
     "name": "stdout",
     "output_type": "stream",
     "text": [
      "Deepa\n",
      "Kadhir\n",
      "priya\n"
     ]
    }
   ],
   "source": [
    "#print words longer than 3 letters from a list\n",
    "list1=[\"Deepa\",\"Kadhir\",\"Joe\",\"Sri\",\"priya\"]\n",
    "for i in list1:\n",
    "    if len(i)>3:\n",
    "        print(i)"
   ]
  },
  {
   "cell_type": "code",
   "execution_count": null,
   "id": "c8328fde",
   "metadata": {},
   "outputs": [
    {
     "name": "stdout",
     "output_type": "stream",
     "text": [
      "{'name': 'Tamil', 'dept': 'Ai&Ds'}\n",
      "{}\n"
     ]
    }
   ],
   "source": [
    "#Dictionary\n",
    "dict1={\"name\":\"Tamil\",\"dept\":\"Ai&Ds\"}\n",
    "print(dict1)\n",
    "dict2={} #empty dictionary\n",
    "print(dict2\n",
    "      )"
   ]
  },
  {
   "cell_type": "code",
   "execution_count": 4,
   "id": "24e2816b",
   "metadata": {},
   "outputs": [
    {
     "name": "stdout",
     "output_type": "stream",
     "text": [
      "{'name': 'nihal', 'age': 20}\n"
     ]
    }
   ],
   "source": [
    "#use \"Dict\" keyword\n",
    "\n",
    "Dict3=dict(name=\"nihal\",age=20) \n",
    "print(Dict3)"
   ]
  },
  {
   "cell_type": "code",
   "execution_count": 6,
   "id": "166b57a6",
   "metadata": {},
   "outputs": [
    {
     "name": "stdout",
     "output_type": "stream",
     "text": [
      "{'a': 1, 'b': 2}\n"
     ]
    }
   ],
   "source": [
    "dict4=dict([(\"a\",1),(\"b\",2)])\n",
    "print(dict4)"
   ]
  },
  {
   "cell_type": "code",
   "execution_count": null,
   "id": "f5d39f0c",
   "metadata": {},
   "outputs": [
    {
     "name": "stdout",
     "output_type": "stream",
     "text": [
      "Kerala\n",
      "156\n"
     ]
    }
   ],
   "source": [
    "#important dictionary methods\n",
    "#get,setdefault,update,items,keys,values\n",
    "#1.get method \n",
    "#we can perform safe acces of the value\n",
    "\n",
    "dict1={\"name\":\"nihal\",\"age\":20,\"dept\":\"AI&DS\"}\n",
    "print(dict1.get(\"Place\",\"Kerala\"))\n",
    "print(dict1.get(\"Height\",156))#it is for get method "
   ]
  },
  {
   "cell_type": "code",
   "execution_count": 8,
   "id": "41722f49",
   "metadata": {},
   "outputs": [
    {
     "name": "stdout",
     "output_type": "stream",
     "text": [
      "{'name': 'nihal', 'age': 20, 'dept': 'AI&DS', 'email': 'abc@shanmugha.edu.in'}\n"
     ]
    }
   ],
   "source": [
    "#setdefault method\n",
    "dict1={\"name\":\"nihal\",\"age\":20,\"dept\":\"AI&DS\"}\n",
    "dict1.setdefault(\"email\",\"abc@shanmugha.edu.in\")\n",
    "print(dict1)#once you use setdefault method, set the\n"
   ]
  },
  {
   "cell_type": "code",
   "execution_count": null,
   "id": "936e7e34",
   "metadata": {},
   "outputs": [
    {
     "name": "stdout",
     "output_type": "stream",
     "text": [
      "{'name': 'nihal', 'age': 20, 'dept': 'AI&DS', 'place': 'kerala'}\n",
      "{'name': 'hemanth', 'age': 21, 'dept': 'AI&DS', 'place': 'kerala'}\n"
     ]
    }
   ],
   "source": [
    "#update method\n",
    "dict1={\"name\":\"nihal\",\"age\":20,\"dept\":\"AI&DS\"}\n",
    "dict1.update({\"place\":\"kerala\"})\n",
    "print(dict1)\n",
    "dict1[\"name\"]=\"hemanth\"\n",
    "dict1[\"age\"]=21\n",
    "print(dict1)"
   ]
  },
  {
   "cell_type": "code",
   "execution_count": 14,
   "id": "0792cc63",
   "metadata": {},
   "outputs": [
    {
     "name": "stdout",
     "output_type": "stream",
     "text": [
      "dict_keys(['name', 'age', 'dept'])\n",
      "dict_values(['nihal', 20, 'AI&DS'])\n",
      "dict_items([('name', 'nihal'), ('age', 20), ('dept', 'AI&DS')])\n"
     ]
    }
   ],
   "source": [
    "dict1={\"name\":\"nihal\",\"age\":20,\"dept\":\"AI&DS\"}\n",
    "print(dict1.keys())\n",
    "print(dict1.values())\n",
    "print(dict1.items())\n"
   ]
  },
  {
   "cell_type": "code",
   "execution_count": 16,
   "id": "d047e549",
   "metadata": {},
   "outputs": [
    {
     "name": "stdout",
     "output_type": "stream",
     "text": [
      "{'age': 20, 'dept': 'AI&DS'}\n"
     ]
    }
   ],
   "source": [
    "#delete method - del, pop\n",
    "dict1={\"name\":\"nihal\",\"age\":20,\"dept\":\"AI&DS\"}\n",
    "del dict1[\"name\"]\n",
    "print(dict1)"
   ]
  },
  {
   "cell_type": "code",
   "execution_count": null,
   "id": "2f6b34b3",
   "metadata": {},
   "outputs": [
    {
     "name": "stdout",
     "output_type": "stream",
     "text": [
      "{'name': 'nihal', 'age': 20, 'dept': 'AI&DS'}\n"
     ]
    }
   ],
   "source": [
    "#pop\n",
    "dict1={\"name\":\"nihal\",\"age\":20,\"dept\":\"AI&DS\"}\n",
    "dict1.pop(\"height\",\"none\")\n",
    "print(dict1)"
   ]
  },
  {
   "cell_type": "code",
   "execution_count": 6,
   "id": "345bc300",
   "metadata": {},
   "outputs": [
    {
     "name": "stdout",
     "output_type": "stream",
     "text": [
      "{'Banana': 2, 'apple': 2, 'kiwi': 1}\n"
     ]
    }
   ],
   "source": [
    "#Frequency dictionary from text\n",
    "\n",
    "text=\"Banana apple Banana apple kiwi\"\n",
    "\n",
    "dict1={}\n",
    "for i in text.split():\n",
    "    dict1[i]=dict1.get(i,0)+1\n",
    "print(dict1)"
   ]
  },
  {
   "cell_type": "code",
   "execution_count": null,
   "id": "fdb64b04",
   "metadata": {},
   "outputs": [],
   "source": []
  }
 ],
 "metadata": {
  "kernelspec": {
   "display_name": "Python 3",
   "language": "python",
   "name": "python3"
  },
  "language_info": {
   "codemirror_mode": {
    "name": "ipython",
    "version": 3
   },
   "file_extension": ".py",
   "mimetype": "text/x-python",
   "name": "python",
   "nbconvert_exporter": "python",
   "pygments_lexer": "ipython3",
   "version": "3.13.5"
  }
 },
 "nbformat": 4,
 "nbformat_minor": 5
}
