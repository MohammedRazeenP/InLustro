{
 "cells": [
  {
   "cell_type": "code",
   "execution_count": 1,
   "id": "e586fbf7",
   "metadata": {},
   "outputs": [
    {
     "name": "stdout",
     "output_type": "stream",
     "text": [
      "Name: Akash T, ID: 101, Department: Cardiology\n",
      "Dr. Akash T is diagnosing patients.\n",
      "\n",
      "Name: Kevin Debryune, ID: 102, Department: Surgery\n",
      "Nurse Kevin Debryune is assisting in surgery.\n",
      "\n",
      "Name: Terstegen, ID: 103, Department: Front Desk\n",
      "Receptionist Terstegen is scheduling appointments.\n",
      "\n"
     ]
    }
   ],
   "source": [
    "\n",
    "class Staff:\n",
    "    def __init__(self, name, staff_id, department):\n",
    "        self.name = name\n",
    "        self.staff_id = staff_id\n",
    "        self.department = department\n",
    "\n",
    "    def display(self):\n",
    "        print(f\"Name: {self.name}, ID: {self.staff_id}, Department: {self.department}\")\n",
    "\n",
    "class Doctor(Staff):\n",
    "    def perform_duty(self):  \n",
    "        print(f\"Dr. {self.name} is diagnosing patients.\")\n",
    "\n",
    "\n",
    "class Nurse(Staff):\n",
    "    def perform_duty(self): \n",
    "        print(f\"Nurse {self.name} is assisting in surgery.\")\n",
    "\n",
    "\n",
    "class Receptionist(Staff):\n",
    "    def perform_duty(self): \n",
    "        print(f\"Receptionist {self.name} is scheduling appointments.\")\n",
    "\n",
    "\n",
    "staff_members = [\n",
    "    Doctor(\"Akash T\", 101, \"Cardiology\"),\n",
    "    Nurse(\"Kevin Debryune\", 102, \"Surgery\"),\n",
    "    Receptionist(\"Terstegen\", 103, \"Front Desk\")\n",
    "]\n",
    "\n",
    "for member in staff_members:\n",
    "    member.display()\n",
    "    member.perform_duty()  \n",
    "    print()\n"
   ]
  },
  {
   "cell_type": "code",
   "execution_count": null,
   "id": "e861b809",
   "metadata": {},
   "outputs": [],
   "source": [
    "# Student Management System using Basic Python\n",
    "\n",
    "students = []  # List to store student records\n",
    "\n",
    "# Function to add a new student\n",
    "def add_student():\n",
    "    name = input(\"Enter student name: \")\n",
    "    roll_no = input(\"Enter roll number: \")\n",
    "    marks = input(\"Enter marks: \")\n",
    "    \n",
    "    student = {\n",
    "        \"name\": name,\n",
    "        \"roll_no\": roll_no,\n",
    "        \"marks\": marks\n",
    "    }\n",
    "    \n",
    "    students.append(student)\n",
    "    print(\"Student added successfully!\\n\")\n",
    "\n",
    "# Function to display all students\n",
    "def display_students():\n",
    "    if not students:\n",
    "        print(\"No student records found.\\n\")\n",
    "        return\n",
    "    \n",
    "    print(\"\\n--- Student Records ---\")\n",
    "    for student in students:\n",
    "        print(f\"Name: {student['name']}, Roll No: {student['roll_no']}, Marks: {student['marks']}\")\n",
    "    print()\n",
    "\n",
    "# Function to search for a student by roll number\n",
    "def search_student():\n",
    "    roll_no = input(\"Enter roll number to search: \")\n",
    "    found = False\n",
    "    for student in students:\n",
    "        if student['roll_no'] == roll_no:\n",
    "            print(f\"Student Found: Name: {student['name']}, Marks: {student['marks']}\\n\")\n",
    "            found = True\n",
    "            break\n",
    "    if not found:\n",
    "        print(\"Student not found.\\n\")\n",
    "\n",
    "# Function to update student details\n",
    "def update_student():\n",
    "    roll_no = input(\"Enter roll number of student to update: \")\n",
    "    for student in students:\n",
    "        if student['roll_no'] == roll_no:\n",
    "            print(\"Student found. Enter new details.\")\n",
    "            student['name'] = input(\"Enter new name: \")\n",
    "            student['marks'] = input(\"Enter new marks: \")\n",
    "            print(\"Student details updated successfully!\\n\")\n",
    "            return\n",
    "    print(\"Student not found.\\n\")\n",
    "\n",
    "# Function to delete a student record\n",
    "def delete_student():\n",
    "    roll_no = input(\"Enter roll number of student to delete: \")\n",
    "    for student in students:\n",
    "        if student['roll_no'] == roll_no:\n",
    "            students.remove(student)\n",
    "            print(\"Student deleted successfully!\\n\")\n",
    "            return\n",
    "    print(\"Student not found.\\n\")\n",
    "\n",
    "# Function to show the menu\n",
    "def menu():\n",
    "    while True:\n",
    "        print(\"===== Student Management System =====\")\n",
    "        print(\"1. Add Student\")\n",
    "        print(\"2. Display All Students\")\n",
    "        print(\"3. Search Student\")\n",
    "        print(\"4. Update Student\")\n",
    "        print(\"5. Delete Student\")\n",
    "        print(\"6. Exit\")\n",
    "        \n",
    "        choice = input(\"Enter your choice (1-6): \")\n",
    "        \n",
    "        if choice == '1':\n",
    "            add_student()\n",
    "        elif choice == '2':\n",
    "            display_students()\n",
    "        elif choice == '3':\n",
    "            search_student()\n",
    "        elif choice == '4':\n",
    "            update_student()\n",
    "        elif choice == '5':\n",
    "            delete_student()\n",
    "        elif choice == '6':\n",
    "            print(\"Exiting the program. Goodbye!\")\n",
    "            break\n",
    "        else:\n",
    "            print(\"Invalid choice! Please try again.\\n\")\n",
    "\n",
    "# Run the program\n",
    "menu()\n"
   ]
  },
  {
   "cell_type": "code",
   "execution_count": 1,
   "id": "b67b1aaa",
   "metadata": {},
   "outputs": [
    {
     "name": "stdout",
     "output_type": "stream",
     "text": [
      "person noufichaa\n",
      "object destroyed\n"
     ]
    }
   ],
   "source": [
    "#dunder methods / special methods / double underscode methods\n",
    "from datetime import date\n",
    "\n",
    "\n",
    "class person():\n",
    "    def __init__(self,name):\n",
    "        self.name = name\n",
    "    def __str__(self):\n",
    "        return self.name\n",
    "    #def __repr__(self):\n",
    "        #return self.name\n",
    "    def __repr__ (self): #developer or code debugger\n",
    "        return f\"person {self.name}\"   \n",
    "    def __del__(self):\n",
    "        print(\"object destroyed\") \n",
    "    \n",
    "p1 = person(\"noufichaa\")\n",
    "print(repr(p1)) \n",
    "\n",
    "del p1\n",
    "\n",
    "\n",
    "#d = date(year=2020,month=10,day=5)\n",
    "#print(repr(d))\n",
    "\n",
    "#y= datetime.date(2020,10,5)"
   ]
  },
  {
   "cell_type": "code",
   "execution_count": 3,
   "id": "a7e6d3f3",
   "metadata": {},
   "outputs": [
    {
     "name": "stdout",
     "output_type": "stream",
     "text": [
      "3\n"
     ]
    }
   ],
   "source": [
    "class person():\n",
    "    def __init__(self,data):\n",
    "        self.data=data\n",
    "    def __len__(self):\n",
    "        return len(self.data)\n",
    "\n",
    "m1=person([15,16,2])\n",
    "print(len(m1))"
   ]
  },
  {
   "cell_type": "code",
   "execution_count": 5,
   "id": "16551226",
   "metadata": {},
   "outputs": [
    {
     "name": "stdout",
     "output_type": "stream",
     "text": [
      "5\n",
      "True\n"
     ]
    }
   ],
   "source": [
    "class person():\n",
    "    def __init__(self,data):\n",
    "        self.data=data\n",
    "    def __len__(self):\n",
    "        return len(self.data)\n",
    "    def __contains__(self,item):\n",
    "        return item in self.data\n",
    "    \n",
    "m1=person([15,16,2,89,000])\n",
    "print(len(m1))\n",
    "print(000 in m1)"
   ]
  },
  {
   "cell_type": "code",
   "execution_count": 2,
   "id": "7ed1e57c",
   "metadata": {},
   "outputs": [
    {
     "name": "stdout",
     "output_type": "stream",
     "text": [
      "5\n",
      "True\n"
     ]
    }
   ],
   "source": [
    "class person():\n",
    "    def __init__(self,data):\n",
    "        self.data=data\n",
    "    def __len__(self):\n",
    "        return len(self.data)\n",
    "    def __contains__(self,item):\n",
    "        return item in self.data\n",
    "    \n",
    "m1=person([15,16,2,89,000])\n",
    "print(len(m1))\n",
    "print(000 in m1)\n"
   ]
  }
 ],
 "metadata": {
  "kernelspec": {
   "display_name": "Python 3",
   "language": "python",
   "name": "python3"
  },
  "language_info": {
   "codemirror_mode": {
    "name": "ipython",
    "version": 3
   },
   "file_extension": ".py",
   "mimetype": "text/x-python",
   "name": "python",
   "nbconvert_exporter": "python",
   "pygments_lexer": "ipython3",
   "version": "3.13.5"
  }
 },
 "nbformat": 4,
 "nbformat_minor": 5
}
